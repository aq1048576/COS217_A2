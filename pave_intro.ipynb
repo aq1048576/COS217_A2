{
  "nbformat": 4,
  "nbformat_minor": 0,
  "metadata": {
    "colab": {
      "name": "Untitled1.ipynb",
      "provenance": [],
      "authorship_tag": "ABX9TyNKQsPKV0S+YVFWVfxyuT9I",
      "include_colab_link": true
    },
    "kernelspec": {
      "name": "python3",
      "display_name": "Python 3"
    },
    "language_info": {
      "name": "python"
    }
  },
  "cells": [
    {
      "cell_type": "markdown",
      "metadata": {
        "id": "view-in-github",
        "colab_type": "text"
      },
      "source": [
        "<a href=\"https://colab.research.google.com/github/aq1048576/COS217_A2/blob/master/pave_intro.ipynb\" target=\"_parent\"><img src=\"https://colab.research.google.com/assets/colab-badge.svg\" alt=\"Open In Colab\"/></a>"
      ]
    },
    {
      "cell_type": "code",
      "source": [
        "import os\n",
        "import numpy as np\n",
        "import cv2 as cv\n",
        "from google.colab.patches import cv2_imshow\n",
        "from google.colab import drive\n",
        "drive.mount('/content/drive/')\n",
        "os.chdir('/content/drive/')\n"
      ],
      "metadata": {
        "colab": {
          "base_uri": "https://localhost:8080/"
        },
        "id": "CxOiEnk-1niC",
        "outputId": "7535b269-50ec-42c0-eb6c-ff5662e68c21"
      },
      "execution_count": 4,
      "outputs": [
        {
          "output_type": "stream",
          "name": "stdout",
          "text": [
            "Mounted at /content/drive/\n"
          ]
        }
      ]
    },
    {
      "cell_type": "code",
      "source": [
        "# copy and pasted online code for finding circle using Hough Transform method\n",
        "\n",
        "def find_circle(image):\n",
        "  \n",
        "  img = cv.imread(image,0)\n",
        "  img = cv.medianBlur(img,5)\n",
        "  cimg = cv.cvtColor(img,cv.COLOR_GRAY2BGR)\n",
        "  circles = cv.HoughCircles(img,cv.HOUGH_GRADIENT,1,20,\n",
        "                              param1=50,param2=30,minRadius=0,maxRadius=0)\n",
        "  if circles is None:\n",
        "    return 0,0,0\n",
        "  circles = np.uint16(np.around(circles))\n",
        "  for i in circles[0,:]:\n",
        "    return i[0], i[1], i[2]"
      ],
      "metadata": {
        "colab": {
          "base_uri": "https://localhost:8080/"
        },
        "id": "YBbhVLeU5GmD",
        "outputId": "c40b3573-7114-423a-bb36-6541d6d3d41c"
      },
      "execution_count": 41,
      "outputs": [
        {
          "output_type": "execute_result",
          "data": {
            "text/plain": [
              "(0, 0, 0)"
            ]
          },
          "metadata": {},
          "execution_count": 41
        }
      ]
    },
    {
      "cell_type": "code",
      "source": [
        "# find the distance from the boat to the buoy using online formula\n",
        "\n",
        "def find_dist(name, radius):\n",
        "  if (radius == 0):\n",
        "    return -1\n",
        "  img = cv.imread(name,0)\n",
        "  h,w = img.shape\n",
        "  # goPro stats from web\n",
        "  focal = 16.5\n",
        "  sensor = 11.04\n",
        "  # Wikipedia says 1.5-12 meters, I chose 8 meters\n",
        "  real_buoy_height = 8000\n",
        "  image_height = h\n",
        "  image_buoy_height = 2*radius\n",
        "  # using formula from web\n",
        "  # focal * real * image_height// (sensor * image buoy height)\n",
        "  dist = (focal * real_buoy_height * image_height)//(sensor * image_buoy_height)\n",
        "  return dist"
      ],
      "metadata": {
        "id": "9YA6SSyNQ-G6"
      },
      "execution_count": 70,
      "outputs": []
    },
    {
      "cell_type": "code",
      "source": [
        "# looks like all of the images have two horizontal lines, all at the same location. this code snippet uses a random image\n",
        "# to find the y coordinate of the lower line, and if the top of the buoy is higher than the lower line, then we reject the image\n",
        "# line location ends up around 399 pixels, horizon is horizontal with a slight tilt of 1.57 degrees, which we disregard\n",
        "\n",
        "def find_horizon(name):\n",
        "  img = cv2.imread(name)\n",
        "  \n",
        "  # Convert the img to grayscale\n",
        "  gray = cv2.cvtColor(img,cv2.COLOR_BGR2GRAY)\n",
        "  \n",
        "  # Apply edge detection method on the image\n",
        "  edges = cv2.Canny(gray,50,150,apertureSize = 3)\n",
        "    \n",
        "  # This returns an array of r and theta values\n",
        "  lines = cv2.HoughLines(edges,1,np.pi/180, 200)\n",
        "  print(lines)\n",
        "    \n",
        "find_horizon('/content/drive/MyDrive/pave_intro/images/lake03.jpeg')\n",
        "      "
      ],
      "metadata": {
        "colab": {
          "base_uri": "https://localhost:8080/"
        },
        "id": "N-0ONUrZahUs",
        "outputId": "3fa3e55a-e1d6-447b-ac13-cdb870dc9d05"
      },
      "execution_count": 81,
      "outputs": [
        {
          "output_type": "stream",
          "name": "stdout",
          "text": [
            "[[[199.          1.5707964]]\n",
            "\n",
            " [[399.          1.5707964]]]\n"
          ]
        }
      ]
    },
    {
      "cell_type": "code",
      "source": [
        "# checks if top of buoy in image is in the trees or sky\n",
        "\n",
        "def check_bad(radius, center_height):\n",
        "  if ((center_height-radius)<= 399):\n",
        "    return True"
      ],
      "metadata": {
        "id": "butriNNFcfMW"
      },
      "execution_count": 85,
      "outputs": []
    },
    {
      "cell_type": "code",
      "source": [
        "# main driving code\n",
        "\n",
        "# places the names of the files into a list\n",
        "namelist = []\n",
        "for i in range(10):\n",
        "  for j in range (10):\n",
        "    filename = '/content/drive/MyDrive/pave_intro/images/lake'+str(i)+str(j)+'.jpeg'\n",
        "    namelist.append(filename)\n",
        "radius = np.array([])\n",
        "center = np.zeros([100,2])\n",
        "distance = np.array([])\n",
        "\n",
        "#iterates through the list, if the buoy is nonexistent or not in the water, we append -1 values to the center, radius, and distance lists\n",
        "for i in range(100):\n",
        "  name = namelist[i]\n",
        "  x, y, r = find_circle(name)\n",
        "  if (r==0 or check_bad(r, y)):\n",
        "    center[i] = -1\n",
        "    radius = np.append(radius, -1)\n",
        "    distance = np.append(distance, -1)\n",
        "  else: \n",
        "    center[i][0] = x\n",
        "    center[i][1] = y\n",
        "    radius = np.append(radius, r)\n",
        "    dist = int(find_dist(name, r))\n",
        "    distance = np.append(distance, dist)\n",
        "\n",
        "print('center', center)\n",
        "print('radius', radius)\n",
        "print('distance', distance)\n"
      ],
      "metadata": {
        "colab": {
          "base_uri": "https://localhost:8080/"
        },
        "id": "XRjUXGR7B2NG",
        "outputId": "3da06733-8598-45a8-b1c8-17136b33ad17"
      },
      "execution_count": 84,
      "outputs": [
        {
          "output_type": "stream",
          "name": "stdout",
          "text": [
            "center [[ 6.040e+02  7.200e+02]\n",
            " [ 1.592e+03  1.650e+03]\n",
            " [ 3.600e+02  4.300e+02]\n",
            " [-1.000e+00 -1.000e+00]\n",
            " [ 5.520e+02  1.742e+03]\n",
            " [-1.000e+00 -1.000e+00]\n",
            " [-1.000e+00 -1.000e+00]\n",
            " [ 2.292e+03  1.356e+03]\n",
            " [ 1.294e+03  1.014e+03]\n",
            " [-1.000e+00 -1.000e+00]\n",
            " [ 2.218e+03  1.680e+03]\n",
            " [-1.000e+00 -1.000e+00]\n",
            " [ 1.072e+03  1.672e+03]\n",
            " [ 1.544e+03  5.340e+02]\n",
            " [ 2.280e+03  1.826e+03]\n",
            " [ 7.020e+02  1.702e+03]\n",
            " [ 1.806e+03  8.200e+02]\n",
            " [ 2.656e+03  1.164e+03]\n",
            " [-1.000e+00 -1.000e+00]\n",
            " [-1.000e+00 -1.000e+00]\n",
            " [ 6.160e+02  8.400e+02]\n",
            " [ 1.754e+03  1.400e+03]\n",
            " [ 2.058e+03  8.260e+02]\n",
            " [-1.000e+00 -1.000e+00]\n",
            " [-1.000e+00 -1.000e+00]\n",
            " [ 1.456e+03  1.306e+03]\n",
            " [ 1.536e+03  8.120e+02]\n",
            " [ 4.340e+02  1.704e+03]\n",
            " [ 7.840e+02  1.282e+03]\n",
            " [ 1.026e+03  1.906e+03]\n",
            " [-1.000e+00 -1.000e+00]\n",
            " [ 2.424e+03  6.520e+02]\n",
            " [ 8.600e+01  1.224e+03]\n",
            " [-1.000e+00 -1.000e+00]\n",
            " [-1.000e+00 -1.000e+00]\n",
            " [ 4.380e+02  1.638e+03]\n",
            " [-1.000e+00 -1.000e+00]\n",
            " [ 1.772e+03  5.100e+02]\n",
            " [ 1.234e+03  1.882e+03]\n",
            " [ 3.800e+01  1.826e+03]\n",
            " [-1.000e+00 -1.000e+00]\n",
            " [-1.000e+00 -1.000e+00]\n",
            " [ 6.480e+02  4.760e+02]\n",
            " [-1.000e+00 -1.000e+00]\n",
            " [ 1.060e+03  1.454e+03]\n",
            " [ 6.960e+02  1.308e+03]\n",
            " [-1.000e+00 -1.000e+00]\n",
            " [-1.000e+00 -1.000e+00]\n",
            " [-1.000e+00 -1.000e+00]\n",
            " [ 8.180e+02  9.460e+02]\n",
            " [ 2.682e+03  1.352e+03]\n",
            " [ 7.520e+02  1.024e+03]\n",
            " [ 2.216e+03  7.840e+02]\n",
            " [ 2.644e+03  1.666e+03]\n",
            " [-1.000e+00 -1.000e+00]\n",
            " [-1.000e+00 -1.000e+00]\n",
            " [-1.000e+00 -1.000e+00]\n",
            " [ 9.500e+02  4.780e+02]\n",
            " [ 2.624e+03  1.008e+03]\n",
            " [ 2.628e+03  1.762e+03]\n",
            " [ 2.004e+03  1.266e+03]\n",
            " [ 2.404e+03  6.160e+02]\n",
            " [ 1.794e+03  1.060e+03]\n",
            " [-1.000e+00 -1.000e+00]\n",
            " [ 2.520e+02  8.900e+02]\n",
            " [ 1.248e+03  1.020e+03]\n",
            " [ 1.958e+03  1.578e+03]\n",
            " [ 1.642e+03  1.136e+03]\n",
            " [ 2.354e+03  4.560e+02]\n",
            " [ 1.140e+02  7.700e+02]\n",
            " [ 6.900e+02  9.200e+02]\n",
            " [ 6.640e+02  1.322e+03]\n",
            " [ 1.778e+03  7.320e+02]\n",
            " [ 2.156e+03  1.372e+03]\n",
            " [ 2.588e+03  1.558e+03]\n",
            " [ 2.286e+03  4.860e+02]\n",
            " [ 3.560e+02  1.726e+03]\n",
            " [ 2.320e+02  1.590e+03]\n",
            " [ 1.272e+03  1.188e+03]\n",
            " [-1.000e+00 -1.000e+00]\n",
            " [ 1.132e+03  6.440e+02]\n",
            " [ 3.940e+02  1.562e+03]\n",
            " [-1.000e+00 -1.000e+00]\n",
            " [ 3.460e+02  1.710e+03]\n",
            " [-1.000e+00 -1.000e+00]\n",
            " [-1.000e+00 -1.000e+00]\n",
            " [ 2.220e+03  1.374e+03]\n",
            " [-1.000e+00 -1.000e+00]\n",
            " [-1.000e+00 -1.000e+00]\n",
            " [ 1.936e+03  1.054e+03]\n",
            " [ 1.960e+03  1.224e+03]\n",
            " [ 2.342e+03  7.360e+02]\n",
            " [ 1.504e+03  9.260e+02]\n",
            " [ 2.210e+03  1.516e+03]\n",
            " [ 2.472e+03  1.766e+03]\n",
            " [ 6.240e+02  1.716e+03]\n",
            " [ 5.220e+02  1.980e+03]\n",
            " [-1.000e+00 -1.000e+00]\n",
            " [-1.000e+00 -1.000e+00]\n",
            " [-1.000e+00 -1.000e+00]]\n",
            "radius [ 24. 127.   8.  -1. 139.  -1.  -1.  86.  48.  -1. 130.  -1. 130.  13.\n",
            " 156. 135.  29.  63.  -1.  -1.  33.  93.  33.  -1.  -1.  78.  31. 133.\n",
            "  77. 174.  -1.  19.  69.  -1.  -1. 123.  -1.  11. 166. 170.  -1.  -1.\n",
            "  10.  -1.  99.  80.  -1.  -1.  -1.  42.  86.  49.  29. 128.  -1.  -1.\n",
            "  -1.  10.  46. 144.  75.  17.  53.  -1.  37.  49. 116.  60.  10.  28.\n",
            "  39.  80.  25.  88. 113.  10. 135. 117.  66.  -1.  18. 111.  -1. 137.\n",
            "  -1.  -1.  88.  -1.  -1.  52.  70.  25.  40. 107. 144. 136. 169.  -1.\n",
            "  -1.  -1.]\n",
            "distance [ 4.981880e+05  9.414500e+04  1.494565e+06 -1.000000e+00  8.601800e+04\n",
            " -1.000000e+00 -1.000000e+00  1.390290e+05  2.490940e+05 -1.000000e+00\n",
            "  9.197300e+04 -1.000000e+00  9.197300e+04  9.197320e+05  7.664400e+04\n",
            "  8.856600e+04  4.122930e+05  1.897860e+05 -1.000000e+00 -1.000000e+00\n",
            "  3.623180e+05  1.285640e+05  3.623180e+05 -1.000000e+00 -1.000000e+00\n",
            "  1.532880e+05  3.856940e+05  8.989800e+04  1.552790e+05  6.871500e+04\n",
            " -1.000000e+00  6.292900e+05  1.732820e+05 -1.000000e+00 -1.000000e+00\n",
            "  9.720700e+04 -1.000000e+00  1.086956e+06  7.202700e+04  7.033200e+04\n",
            " -1.000000e+00 -1.000000e+00  1.195652e+06 -1.000000e+00  1.207720e+05\n",
            "  1.494560e+05 -1.000000e+00 -1.000000e+00 -1.000000e+00  2.846790e+05\n",
            "  1.390290e+05  2.440100e+05  4.122930e+05  9.341000e+04 -1.000000e+00\n",
            " -1.000000e+00 -1.000000e+00  1.195652e+06  2.599240e+05  8.303100e+04\n",
            "  1.594200e+05  7.033240e+05  2.255940e+05 -1.000000e+00  3.231490e+05\n",
            "  2.440100e+05  1.030730e+05  1.992750e+05  1.195652e+06  4.270180e+05\n",
            "  3.065770e+05  1.494560e+05  4.782600e+05  1.358690e+05  1.058090e+05\n",
            "  1.195652e+06  8.856600e+04  1.021920e+05  1.811590e+05 -1.000000e+00\n",
            "  6.642510e+05  1.077160e+05 -1.000000e+00  8.727300e+04 -1.000000e+00\n",
            " -1.000000e+00  1.358690e+05 -1.000000e+00 -1.000000e+00  2.299330e+05\n",
            "  1.708070e+05  4.782600e+05  2.989130e+05  1.117430e+05  8.303100e+04\n",
            "  8.791500e+04  7.074800e+04 -1.000000e+00 -1.000000e+00 -1.000000e+00]\n"
          ]
        }
      ]
    }
  ]
}